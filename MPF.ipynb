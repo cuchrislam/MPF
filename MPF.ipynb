{
 "cells": [
  {
   "cell_type": "code",
   "execution_count": 1,
   "id": "fa151bdb",
   "metadata": {},
   "outputs": [],
   "source": [
    "import pandas as pd\n",
    "import datetime\n",
    "from dateutil.relativedelta import relativedelta\n",
    "import math"
   ]
  },
  {
   "cell_type": "code",
   "execution_count": 2,
   "id": "e6546cca",
   "metadata": {},
   "outputs": [],
   "source": [
    "def load_excel_to_dataframe(filepath):\n",
    "    \"\"\"Load an Excel file into a pandas DataFrame.\"\"\"\n",
    "    try:\n",
    "        # Use the read_excel method to read the file.\n",
    "        # The 'engine' parameter isn't necessary unless you need to specify it,\n",
    "        # pandas generally handles this automatically.\n",
    "        df = pd.read_excel(filepath)\n",
    "        return df\n",
    "    except Exception as e:\n",
    "        print(f\"Error loading the Excel file: {e}\")\n",
    "        return None\n",
    "\n",
    "# Example usage\n",
    "filepath = 'MPS.xlsx'  # Replace with your actual file path\n",
    "df = load_excel_to_dataframe(filepath)\n",
    "\n",
    "\n",
    "# if df is not None:\n",
    "# #     print(\"Excel file loaded successfully!\")\n",
    "# #     print(df.head())  # Prints the first 5 rows of the DataFrame\n",
    "# #     df['pt_name'] = df['pt_name'].astype('string')\n",
    "# #     print(df.dtypes)\n",
    "# else:\n",
    "#     print(\"Failed to load the Excel file.\")"
   ]
  },
  {
   "cell_type": "code",
   "execution_count": 3,
   "id": "a1d98d2b",
   "metadata": {},
   "outputs": [],
   "source": [
    "# Parameters\n",
    "\n",
    "current_pt = 21\n",
    "max_pt = 28\n",
    "start_date = datetime.date(2011,11,11)\n",
    "retire_date = datetime.date(2049,6,11)\n",
    "current_mpf_val = 900000\n",
    "jump_pt_month = 9\n",
    "approx_pa = 0.03\n",
    "approx_salary_yearly_adj = 0.015\n",
    "self_contribution_limit = 1500 #Default \n",
    "is_retire_65 = True #True for retire at 65, False for retire at 60\n",
    "salary_adj_month = 4 #Default Assume salary adjustment in April of every month\n",
    "\n"
   ]
  },
  {
   "cell_type": "code",
   "execution_count": 4,
   "id": "6f12bd9c",
   "metadata": {},
   "outputs": [],
   "source": [
    "current_salary = df[df['pt_sn'] == current_pt]['Salary'].values[0]\n",
    "current_date = datetime.date.today()\n",
    "year_of_service = relativedelta (current_date, start_date).years\n",
    "months_until_retire = relativedelta (retire_date, current_date).months + relativedelta (retire_date, current_date).years*12\n",
    "monthly_rate  = (1 + approx_pa)**(1/12) - 1\n"
   ]
  },
  {
   "cell_type": "code",
   "execution_count": 5,
   "id": "c9f41391",
   "metadata": {},
   "outputs": [],
   "source": [
    "# print(relativedelta (retire_date, current_date))\n",
    "# print(months_until_retire)\n",
    "# print(monthly_rate)\n",
    "# print(1*(1+monthly_rate)**12)\n"
   ]
  },
  {
   "cell_type": "code",
   "execution_count": null,
   "id": "59ac84b5",
   "metadata": {},
   "outputs": [],
   "source": []
  },
  {
   "cell_type": "code",
   "execution_count": 6,
   "id": "f3766bb3",
   "metadata": {},
   "outputs": [],
   "source": [
    "def get_self_contribution(salary,limit): # calculate the mpf contribution\n",
    "    if salary * 0.05 > limit:\n",
    "        return limit\n",
    "    else:\n",
    "        return salary * 0.05"
   ]
  },
  {
   "cell_type": "code",
   "execution_count": 7,
   "id": "a87216c2",
   "metadata": {},
   "outputs": [],
   "source": [
    "def get_gov_contribution(year_of_service, is_retire_65):\n",
    "    if is_retire_65:\n",
    "        if year_of_service < 3:\n",
    "            return 0.05\n",
    "        elif year_of_service >= 3 and year_of_service < 18:\n",
    "            return 0.15\n",
    "        elif year_of_service >=  18 and year_of_service < 24:\n",
    "            return 0.17 \n",
    "        elif year_of_service >=  24 and year_of_service < 30:\n",
    "            return 0.20\n",
    "        elif year_of_service >=  30 and year_of_service < 35:\n",
    "            return 0.22 \n",
    "        else:\n",
    "            return 0.25 \n",
    "    else:\n",
    "        if year_of_service < 3:\n",
    "            return 0.05 \n",
    "        elif year_of_service >= 3 and year_of_service < 15:\n",
    "            return 0.15 \n",
    "        elif year_of_service >=  15 and year_of_service < 20:\n",
    "            return 0.17 \n",
    "        elif year_of_service >=  20 and year_of_service < 25:\n",
    "            return 0.20 \n",
    "        elif year_of_service >=  25 and year_of_service < 30:\n",
    "            return 0.22 \n",
    "        else:\n",
    "            return 0.25 \n",
    "    "
   ]
  },
  {
   "cell_type": "code",
   "execution_count": 8,
   "id": "84f55a92",
   "metadata": {},
   "outputs": [],
   "source": [
    "column_names = ['Month', 'Year', 'MPS', 'Salary', 'Year of Service', 'Self Contribution Amount', 'Government-contribution %', 'Government-contribution amount', \"Total MPF Value\" ]"
   ]
  },
  {
   "cell_type": "code",
   "execution_count": 9,
   "id": "a9232b20",
   "metadata": {},
   "outputs": [],
   "source": [
    "df_out = pd.DataFrame(index = range(months_until_retire), columns=column_names)"
   ]
  },
  {
   "cell_type": "code",
   "execution_count": 10,
   "id": "c3ee6d89",
   "metadata": {},
   "outputs": [],
   "source": [
    "if current_date.month >= salary_adj_month:\n",
    "    df['Salary'] = df['Salary'] * (1+approx_salary_yearly_adj)\n",
    "else:\n",
    "    pass\n",
    "\n",
    "\n",
    "for i in range(months_until_retire):\n",
    "    current_date = current_date + relativedelta(months=1)\n",
    "\n",
    "    if current_date.month == jump_pt_month and current_pt < max_pt:\n",
    "        current_pt = current_pt + 1\n",
    "    else:\n",
    "        pass\n",
    "    \n",
    "    if current_date.month == salary_adj_month:\n",
    "        df['Salary'] = df['Salary'] * (1+approx_salary_yearly_adj)\n",
    "    else:\n",
    "        pass\n",
    "    \n",
    "    current_salary = df[df['pt_sn'] == current_pt]['Salary'].values[0]\n",
    "\n",
    "    \n",
    "    if current_date.month == start_date.month+1:\n",
    "        year_of_service = year_of_service + 1\n",
    "    else:\n",
    "        pass\n",
    "    \n",
    "    self_contribution_amt = get_self_contribution(current_salary, self_contribution_limit)\n",
    "    gov_contribution = get_gov_contribution(year_of_service, is_retire_65)\n",
    "        \n",
    "\n",
    "    next_month_total = current_mpf_val+current_mpf_val*monthly_rate + self_contribution_amt+ gov_contribution * current_salary\n",
    "    current_mpf_val = next_month_total\n",
    "    \n",
    "    df_out.iloc[i,0] = current_date.month\n",
    "    df_out.iloc[i,1] = current_date.year\n",
    "    df_out.iloc[i,2] = current_pt\n",
    "    df_out.iloc[i,3] = current_salary\n",
    "    df_out.iloc[i,4] = year_of_service\n",
    "    df_out.iloc[i,5] = self_contribution_amt\n",
    "    df_out.iloc[i,6] = gov_contribution\n",
    "    df_out.iloc[i,7] = gov_contribution * current_salary\n",
    "    df_out.iloc[i,8] = current_mpf_val\n",
    "    \n",
    "    \n",
    "    \n",
    "    \n",
    "#     print(current_date.month, current_date.year, current_pt, current_salary, year_of_service, self_contribution_amt, gov_contribution, gov_contribution * current_salary, current_mpf_val)"
   ]
  },
  {
   "cell_type": "code",
   "execution_count": 11,
   "id": "85601091",
   "metadata": {},
   "outputs": [],
   "source": [
    "# print(current_date)\n",
    "# current_date = current_date + relativedelta(months=1)\n",
    "# print(current_date)"
   ]
  },
  {
   "cell_type": "code",
   "execution_count": 12,
   "id": "dce71d00",
   "metadata": {},
   "outputs": [
    {
     "name": "stdout",
     "output_type": "stream",
     "text": [
      "    Month  Year MPS        Salary Year of Service Self Contribution Amount  \\\n",
      "0       5  2024  21       46324.6              12                     1500   \n",
      "1       6  2024  21       46324.6              12                     1500   \n",
      "2       7  2024  21       46324.6              12                     1500   \n",
      "3       8  2024  21       46324.6              12                     1500   \n",
      "4       9  2024  22     48511.925              12                     1500   \n",
      "..    ...   ...  ..           ...             ...                      ...   \n",
      "296     1  2049  28  91257.208047              37                     1500   \n",
      "297     2  2049  28  91257.208047              37                     1500   \n",
      "298     3  2049  28  91257.208047              37                     1500   \n",
      "299     4  2049  28  92626.066167              37                     1500   \n",
      "300     5  2049  28  92626.066167              37                     1500   \n",
      "\n",
      "    Government-contribution % Government-contribution amount Total MPF Value  \n",
      "0                        0.15                        6948.69   910668.332795  \n",
      "1                        0.15                        6948.69   921362.976577  \n",
      "2                        0.15                        6948.69   932083.996235  \n",
      "3                        0.15                        6948.69    942831.45682  \n",
      "4                        0.15                     7276.78875   953933.522293  \n",
      "..                        ...                            ...             ...  \n",
      "296                      0.25                   22814.302012  8428774.976895  \n",
      "297                      0.25                   22814.302012  8473876.911849  \n",
      "298                      0.25                   22814.302012  8519090.080343  \n",
      "299                      0.25                   23156.516542  8564756.971238  \n",
      "300                      0.25                   23156.516542  8610536.489005  \n",
      "\n",
      "[301 rows x 9 columns]\n"
     ]
    }
   ],
   "source": [
    "print(df_out)"
   ]
  },
  {
   "cell_type": "code",
   "execution_count": 13,
   "id": "8ee82e74",
   "metadata": {},
   "outputs": [],
   "source": [
    "# df_out.to_csv(\"output.csv\")"
   ]
  },
  {
   "cell_type": "code",
   "execution_count": null,
   "id": "8877afb9",
   "metadata": {},
   "outputs": [],
   "source": []
  }
 ],
 "metadata": {
  "kernelspec": {
   "display_name": "Python 3 (ipykernel)",
   "language": "python",
   "name": "python3"
  },
  "language_info": {
   "codemirror_mode": {
    "name": "ipython",
    "version": 3
   },
   "file_extension": ".py",
   "mimetype": "text/x-python",
   "name": "python",
   "nbconvert_exporter": "python",
   "pygments_lexer": "ipython3",
   "version": "3.11.5"
  }
 },
 "nbformat": 4,
 "nbformat_minor": 5
}
